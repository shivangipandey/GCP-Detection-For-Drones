{
 "cells": [
  {
   "cell_type": "code",
   "execution_count": 2,
   "metadata": {},
   "outputs": [
    {
     "name": "stdout",
     "output_type": "stream",
     "text": [
      "1.6.0\n"
     ]
    }
   ],
   "source": [
    "# TensorFlow and tf.keras\n",
    "import tensorflow as tf\n",
    "from tensorflow import keras\n",
    "\n",
    "# Helper libraries\n",
    "import numpy as np\n",
    "import matplotlib.pyplot as plt\n",
    "from six.moves import cPickle as pickle\n",
    "from six.moves import range\n",
    "\n",
    "print(tf.__version__)"
   ]
  },
  {
   "cell_type": "markdown",
   "metadata": {},
   "source": [
    "# Unload Pickle Files (Compressed Dataset)"
   ]
  },
  {
   "cell_type": "code",
   "execution_count": 3,
   "metadata": {},
   "outputs": [
    {
     "name": "stdout",
     "output_type": "stream",
     "text": [
      "Training set (1200, 10, 10) (1200,)\n",
      "Test set (299, 10, 10) (299,)\n"
     ]
    }
   ],
   "source": [
    "pickle_file = './ResizedData/complete_dataset.pickle'\n",
    "\n",
    "with open(pickle_file, 'rb') as f:\n",
    "    save = pickle.load(f)\n",
    "    train_images = save['train_dataset']\n",
    "    train_labels = save['train_labels']\n",
    "    test_images = save['test_dataset']\n",
    "    test_labels = save['test_labels']\n",
    "    del save  # hint to help gc free up memory\n",
    "    print('Training set', train_images.shape, train_labels.shape)\n",
    "    print('Test set', test_images.shape, test_labels.shape)"
   ]
  },
  {
   "cell_type": "code",
   "execution_count": 4,
   "metadata": {},
   "outputs": [],
   "source": [
    "class_names = {0:'Not GCP',1:'GCP'}"
   ]
  },
  {
   "cell_type": "code",
   "execution_count": 5,
   "metadata": {},
   "outputs": [
    {
     "data": {
      "image/png": "[encoded data removed]",
      "text/plain": [
       "<Figure size 432x288 with 2 Axes>"
      ]
     },
     "metadata": {},
     "output_type": "display_data"
    }
   ],
   "source": [
    "plt.figure()\n",
    "plt.imshow(train_images[0])\n",
    "plt.colorbar()\n",
    "plt.grid(False)"
   ]
  },
  {
   "cell_type": "code",
   "execution_count": 6,
   "metadata": {},
   "outputs": [
    {
     "data": {
      "image/png": "[encoded data removed]",
      "text/plain": [
       "<Figure size 720x720 with 25 Axes>"
      ]
     },
     "metadata": {},
     "output_type": "display_data"
    }
   ],
   "source": [
    "plt.figure(figsize=(10,10))\n",
    "for i in range(25):\n",
    "    plt.subplot(5,5,i+1)\n",
    "    plt.xticks([])\n",
    "    plt.yticks([])\n",
    "    plt.grid(False)\n",
    "    plt.imshow(train_images[i], cmap=plt.cm.binary)\n",
    "    plt.xlabel(class_names[train_labels[i]])"
   ]
  },
  {
   "cell_type": "markdown",
   "metadata": {},
   "source": [
    "# Train feed forward neural network\n",
    "\n",
    "## - input layer - 1200 * 10 * 10 = 120000 neurons\n",
    "## - 1st hidden layer - 70 neurons - relu activation function\n",
    "## - Dropout with 0.5 probable dropouts\n",
    "## - 2nd hidden layer - 40 neurons - relu activation function\n",
    "## - 3rd hidden layer - 45 neurons - relu activation function\n",
    "\n",
    "## Output Layer - softmax with 2 neurons (0 and 1)\n",
    "\n",
    "## Train model using ADAM OPTIMIZER\n",
    "\n",
    "# training accuracy - 90.42 %\n",
    "# test accuracy - 89.63 % "
   ]
  },
  {
   "cell_type": "code",
   "execution_count": 157,
   "metadata": {},
   "outputs": [
    {
     "name": "stdout",
     "output_type": "stream",
     "text": [
      "Epoch 1/20\n",
      "1200/1200 [==============================]1200/1200 [==============================] - 3s 2ms/step - loss: 0.6134 - acc: 0.6650\n",
      "\n",
      "Epoch 2/20\n",
      "1200/1200 [==============================]1200/1200 [==============================] - 0s 294us/step - loss: 0.4714 - acc: 0.7717\n",
      "\n",
      "Epoch 3/20\n",
      "1200/1200 [==============================]1200/1200 [==============================] - 0s 281us/step - loss: 0.4408 - acc: 0.7883\n",
      "\n",
      "Epoch 4/20\n",
      "1200/1200 [==============================]1200/1200 [==============================] - 0s 257us/step - loss: 0.4030 - acc: 0.8192\n",
      "\n",
      "Epoch 5/20\n",
      "1200/1200 [==============================]1200/1200 [==============================] - 0s 356us/step - loss: 0.3731 - acc: 0.8317 0s - loss: 0.3961 - acc: 0\n",
      "\n",
      "Epoch 6/20\n",
      "1200/1200 [==============================]1200/1200 [==============================] - 0s 348us/step - loss: 0.3735 - acc: 0.8392\n",
      "\n",
      "Epoch 7/20\n",
      "1200/1200 [==============================]1200/1200 [==============================] - 0s 288us/step - loss: 0.3627 - acc: 0.8367\n",
      "\n",
      "Epoch 8/20\n",
      "1200/1200 [==============================]1200/1200 [==============================] - 0s 342us/step - loss: 0.3327 - acc: 0.8533\n",
      "\n",
      "Epoch 9/20\n",
      "1200/1200 [==============================]1200/1200 [==============================] - 0s 300us/step - loss: 0.3280 - acc: 0.8542\n",
      "\n",
      "Epoch 10/20\n",
      "1200/1200 [==============================]1200/1200 [==============================] - 0s 309us/step - loss: 0.3243 - acc: 0.8558\n",
      "\n",
      "Epoch 11/20\n",
      "1200/1200 [==============================]1200/1200 [==============================] - 0s 297us/step - loss: 0.2941 - acc: 0.874200 [====>.........................] - ETA: 0s - loss: 0.3251 - acc: \n",
      "\n",
      "Epoch 12/20\n",
      "1200/1200 [==============================]1200/1200 [==============================] - 0s 296us/step - loss: 0.2763 - acc: 0.8708\n",
      "\n",
      "Epoch 13/20\n",
      "1200/1200 [==============================]1184/1200 [============================>.] - ETA: 0s - loss: 0.2790 - acc: 0.8767- ETA: 0s - loss: 0.2944 - acc: 0.1200/1200 [==============================] - 0s 293us/step - loss: 0.2789 - acc: 0.8767\n",
      "\n",
      "Epoch 14/20\n",
      "1200/1200 [==============================]1200/1200 [==============================] - 0s 252us/step - loss: 0.2732 - acc: 0.8825\n",
      "\n",
      "Epoch 15/20\n",
      "1200/1200 [==============================]1200/1200 [==============================] - ETA: 0s - loss: 0.2596 - acc: 0.880 - 0s 252us/step - loss: 0.2592 - acc: 0.8808\n",
      "\n",
      "Epoch 16/20\n",
      "1200/1200 [==============================]1200/1200 [==============================] - 0s 250us/step - loss: 0.2506 - acc: 0.8933\n",
      "\n",
      "Epoch 17/20\n",
      "1200/1200 [==============================]1200/1200 [==============================] - 0s 234us/step - loss: 0.2416 - acc: 0.9092\n",
      "\n",
      "Epoch 18/20\n",
      "1200/1200 [==============================]1200/1200 [==============================] - 0s 250us/step - loss: 0.2290 - acc: 0.9033\n",
      "\n",
      "Epoch 19/20\n",
      "1200/1200 [==============================]1200/1200 [==============================] - 0s 250us/step - loss: 0.2136 - acc: 0.9142\n",
      "\n",
      "Epoch 20/20\n",
      "1200/1200 [==============================]1200/1200 [==============================] - 0s 265us/step - loss: 0.2211 - acc: 0.9042\n",
      "\n"
     ]
    },
    {
     "data": {
      "text/plain": [
       "<tensorflow.python.keras._impl.keras.callbacks.History at 0x2793aa86d30>"
      ]
     },
     "execution_count": 157,
     "metadata": {},
     "output_type": "execute_result"
    }
   ],
   "source": [
    "model = keras.Sequential([\n",
    "    keras.layers.Flatten(input_shape=(10, 10)),\n",
    "    keras.layers.Dense(70, activation='relu'),\n",
    "    keras.layers.Dropout(0.5),\n",
    "    keras.layers.Dense(40, activation='relu'),\n",
    "    keras.layers.Dense(45, activation='relu'),\n",
    "    keras.layers.Dense(2, activation=tf.nn.softmax)\n",
    "])\n",
    "\n",
    "model.compile(optimizer=tf.train.AdamOptimizer(0.001), \n",
    "              loss='sparse_categorical_crossentropy',\n",
    "              metrics=['accuracy'])\n",
    "\n",
    "model.fit(train_images, train_labels, epochs=20)"
   ]
  },
  {
   "cell_type": "code",
   "execution_count": 158,
   "metadata": {},
   "outputs": [
    {
     "name": "stdout",
     "output_type": "stream",
     "text": [
      "299/299 [==============================]299/299 [==============================] - 1s 5ms/step\n",
      "\n",
      "Test accuracy: 0.896321070034767\n"
     ]
    }
   ],
   "source": [
    "test_loss, test_acc = model.evaluate(test_images, test_labels)\n",
    "\n",
    "print('Test accuracy:', test_acc)"
   ]
  },
  {
   "cell_type": "code",
   "execution_count": 159,
   "metadata": {},
   "outputs": [
    {
     "name": "stdout",
     "output_type": "stream",
     "text": [
      "1\n",
      "1\n"
     ]
    }
   ],
   "source": [
    "predictions = model.predict(test_images)\n",
    "\n",
    "print(np.argmax(predictions[100]))\n",
    "print(test_labels[100])"
   ]
  },
  {
   "cell_type": "markdown",
   "metadata": {},
   "source": [
    "# Plot the image and its corresponding bar graph with red bar for wrong output and blue for right output "
   ]
  },
  {
   "cell_type": "code",
   "execution_count": 140,
   "metadata": {},
   "outputs": [],
   "source": [
    "def plot_image(i, predictions_array, true_label, img):\n",
    "      predictions_array, true_label, img = predictions_array[i], true_label[i], img[i]\n",
    "      plt.grid(False)\n",
    "      plt.xticks([])\n",
    "      plt.yticks([])\n",
    "  \n",
    "      plt.imshow(img, cmap=plt.cm.binary)\n",
    "\n",
    "      predicted_label = np.argmax(predictions_array)\n",
    "      if predicted_label == true_label:\n",
    "        color = 'blue'\n",
    "      else:\n",
    "        color = 'red'\n",
    "  \n",
    "      plt.xlabel(\"{} {:2.0f}% ({})\".format(class_names[predicted_label],\n",
    "                                100*np.max(predictions_array),\n",
    "                                class_names[true_label]),\n",
    "                                color=color)\n",
    "\n",
    "def plot_value_array(i, predictions_array, true_label):\n",
    "      predictions_array, true_label = predictions_array[i], true_label[i]\n",
    "      plt.grid(False)\n",
    "      plt.xticks([])\n",
    "      plt.yticks([])\n",
    "      thisplot = plt.bar(range(2), predictions_array, color=\"#777777\")\n",
    "      plt.ylim([0, 1]) \n",
    "      predicted_label = np.argmax(predictions_array)\n",
    " \n",
    "      thisplot[predicted_label].set_color('red')\n",
    "      thisplot[true_label].set_color('blue')"
   ]
  },
  {
   "cell_type": "code",
   "execution_count": 141,
   "metadata": {},
   "outputs": [
    {
     "data": {
      "image/png": "[encoded data removed]",
      "text/plain": [
       "<Figure size 432x216 with 2 Axes>"
      ]
     },
     "metadata": {},
     "output_type": "display_data"
    }
   ],
   "source": [
    "i = 0\n",
    "plt.figure(figsize=(6,3))\n",
    "plt.subplot(1,2,1)\n",
    "plot_image(i, predictions, test_labels, test_images)\n",
    "plt.subplot(1,2,2)\n",
    "plot_value_array(i, predictions,  test_labels)"
   ]
  },
  {
   "cell_type": "markdown",
   "metadata": {},
   "source": [
    "# Plot the first 25 test images, their predicted label, and the true label\n",
    "# Color correct predictions in blue, incorrect predictions in red"
   ]
  },
  {
   "cell_type": "code",
   "execution_count": 143,
   "metadata": {},
   "outputs": [
    {
     "data": {
      "image/png": "[encoded data removed]",
      "text/plain": [
       "<Figure size 1440x720 with 50 Axes>"
      ]
     },
     "metadata": {},
     "output_type": "display_data"
    }
   ],
   "source": [
    "num_rows = 5\n",
    "num_cols = 5\n",
    "num_images = num_rows*num_cols\n",
    "plt.figure(figsize=(2*2*num_cols, 2*num_rows))\n",
    "for i in range(num_images):\n",
    "  plt.subplot(num_rows, 2*num_cols, 2*i+1)\n",
    "  plot_image(i, predictions, test_labels, test_images)\n",
    "  plt.subplot(num_rows, 2*num_cols, 2*i+2)\n",
    "  plot_value_array(i, predictions, test_labels)\n"
   ]
  },
  {
   "cell_type": "code",
   "execution_count": 161,
   "metadata": {},
   "outputs": [
    {
     "name": "stdout",
     "output_type": "stream",
     "text": [
      "(10, 10)\n",
      "(1, 10, 10)\n",
      "[[0.00492186 0.9950781 ]]\n"
     ]
    },
    {
     "data": {
      "image/png": "[encoded data removed]",
      "text/plain": [
       "<Figure size 432x288 with 1 Axes>"
      ]
     },
     "metadata": {},
     "output_type": "display_data"
    }
   ],
   "source": [
    "# img to test the data\n",
    "img = test_images[0]\n",
    "print(img.shape)\n",
    "# Add the image to a batch where it's the only member. (10,10) -> (1,10,10)\n",
    "img = (np.expand_dims(img,0))\n",
    "print(img.shape)\n",
    "predictions_single = model.predict(img)\n",
    "print(predictions_single)\n",
    "plot_value_array(0, predictions_single, test_labels)\n",
    "_ = plt.xticks(range(10), class_names, rotation=45)"
   ]
  },
  {
   "cell_type": "markdown",
   "metadata": {},
   "source": [
    "# Save the model as 'GCP_Detection_Model.h5' for further use"
   ]
  },
  {
   "cell_type": "code",
   "execution_count": 162,
   "metadata": {},
   "outputs": [
    {
     "name": "stdout",
     "output_type": "stream",
     "text": [
      "WARNING:tensorflow:TensorFlow optimizers do not make it possible to access optimizer attributes or optimizer state after instantiation. As a result, we cannot save the optimizer as part of the model save file.You will have to compile your model again after loading it. Prefer using a Keras optimizer instead (see keras.io/optimizers).\n"
     ]
    },
    {
     "name": "stderr",
     "output_type": "stream",
     "text": [
      "c:\\users\\shivangi pandey\\appdata\\local\\programs\\python\\python36\\lib\\site-packages\\keras\\models.py:282: UserWarning: No training configuration found in save file: the model was *not* compiled. Compile it manually.\n",
      "  warnings.warn('No training configuration found in save file: '\n"
     ]
    }
   ],
   "source": [
    "from keras.models import load_model\n",
    "model.save('GCP_Detection_Model.h5')\n",
    "del model\n",
    "model = load_model('GCP_Detection_Model.h5')\n",
    "def predictValue(img):\n",
    "    #input img must be a grayscale image of size 10 * 10\n",
    "    img = (np.expand_dims(img,0))\n",
    "    predictions_single = model.predict(img)\n",
    "    return np.argmax(predictions_single[0])\n",
    "    "
   ]
  },
  {
   "cell_type": "code",
   "execution_count": 164,
   "metadata": {},
   "outputs": [
    {
     "name": "stdout",
     "output_type": "stream",
     "text": [
      "726\n"
     ]
    }
   ],
   "source": [
    "# Number of true predicted values from 858 true values\n",
    "import cv2\n",
    "import os\n",
    "path = './ResizedData/true'\n",
    "v = 0\n",
    "for ls in os.listdir(path):\n",
    "    i = cv2.imread(os.path.join(path,ls))\n",
    "    image = cv2.cvtColor(i,cv2.COLOR_BGR2GRAY)\n",
    "    if(predictValue(image) == 1):\n",
    "        v += 1\n",
    "print(v)"
   ]
  },
  {
   "cell_type": "code",
   "execution_count": null,
   "metadata": {},
   "outputs": [],
   "source": []
  },
  {
   "cell_type": "code",
   "execution_count": null,
   "metadata": {},
   "outputs": [],
   "source": []
  }
 ],
 "metadata": {
  "kernelspec": {
   "display_name": "Python 3",
   "language": "python",
   "name": "python3"
  },
  "language_info": {
   "codemirror_mode": {
    "name": "ipython",
    "version": 3
   },
   "file_extension": ".py",
   "mimetype": "text/x-python",
   "name": "python",
   "nbconvert_exporter": "python",
   "pygments_lexer": "ipython3",
   "version": "3.6.3"
  }
 },
 "nbformat": 4,
 "nbformat_minor": 2
}
