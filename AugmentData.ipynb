{
 "cells": [
  {
   "cell_type": "code",
   "execution_count": 1,
   "metadata": {},
   "outputs": [],
   "source": [
    "import cv2\n",
    "import numpy as np\n",
    "import math\n",
    "import os\n",
    "import time \n",
    "from six.moves import cPickle as pickle\n",
    "from matplotlib import pyplot as plt\n",
    "from scipy import signal\n"
   ]
  },
  {
   "cell_type": "markdown",
   "metadata": {},
   "source": [
    "# Resize images to 10*10"
   ]
  },
  {
   "cell_type": "code",
   "execution_count": 44,
   "metadata": {},
   "outputs": [],
   "source": [
    "def resizeImages(sor,dest,shape):\n",
    "    for ls in os.listdir(sor):\n",
    "        img = cv2.cvtColor(cv2.imread(os.path.join(sor,ls)), cv2.COLOR_BGR2GRAY)\n",
    "        cv2.imwrite(os.path.join(dest,ls),cv2.resize(img,shape))\n",
    "\n",
    "#resizeImages(\"./TrueData\",\"./ResizedData/true\",(10,10))\n",
    "#resizeImages(\"./FalseData\",\"./ResizedData/false\",(10,10))"
   ]
  },
  {
   "cell_type": "markdown",
   "metadata": {},
   "source": [
    "# Augment data to increase dataset \n",
    "## 228 images in true dataset - > 851 images\n",
    "## 351 images in false dataset - > 601 images"
   ]
  },
  {
   "cell_type": "code",
   "execution_count": 83,
   "metadata": {},
   "outputs": [
    {
     "name": "stdout",
     "output_type": "stream",
     "text": [
      "Initialised with 224 image(s) found.\n",
      "Output directory set to ./ResizedData/true2\\output."
     ]
    }
   ],
   "source": [
    "import Augmentor\n",
    "p_false = Augmentor.Pipeline(\"./ResizedData/false\")\n",
    "p_true = Augmentor.Pipeline(\"./ResizedData/true\")"
   ]
  },
  {
   "cell_type": "code",
   "execution_count": 84,
   "metadata": {},
   "outputs": [],
   "source": [
    "#false values \n",
    "p_false.rotate90(probability=0.5)\n",
    "p_false.rotate270(probability=0.5)\n",
    "p_false.flip_left_right(probability=0.8)\n",
    "p_false.flip_top_bottom(probability=0.3)\n",
    "\n",
    "#true values\n",
    "p_true.rotate(probability=0.7, max_left_rotation=10, max_right_rotation=10)\n",
    "p_true.zoom(probability=0.5, min_factor=1.1, max_factor=1.5)"
   ]
  },
  {
   "cell_type": "code",
   "execution_count": 85,
   "metadata": {},
   "outputs": [
    {
     "name": "stderr",
     "output_type": "stream",
     "text": [
      "Processing <PIL.JpegImagePlugin.JpegImageFile image mode=L size=10x10 at 0x25DA85D6518>: 100%|█| 300/300 [00:03<00:00, 75.85 Samples/s] \n"
     ]
    }
   ],
   "source": [
    "p_false.sample(250)\n",
    "p_true.sample(300)"
   ]
  },
  {
   "cell_type": "code",
   "execution_count": 86,
   "metadata": {},
   "outputs": [],
   "source": [
    "root = './ResizedData'\n",
    "datafolders = [os.path.join(root,d) for d in sorted(os.listdir(root))\n",
    "    if os.path.isdir(os.path.join(root,d))]"
   ]
  },
  {
   "cell_type": "markdown",
   "metadata": {},
   "source": [
    "# Create Pickle files to store complete dataset as numpy array "
   ]
  },
  {
   "cell_type": "code",
   "execution_count": 87,
   "metadata": {},
   "outputs": [
    {
     "name": "stdout",
     "output_type": "stream",
     "text": [
      "./ResizedData\\false.pickle already present - Skipping pickling.\n",
      "Pickling ./ResizedData\\true.pickle.\n",
      "Full dataset tensor: (898, 10, 10)\n",
      "Mean: -0.22358853\n",
      "Standard deviation: 0.36739373\n"
     ]
    }
   ],
   "source": [
    "image_size = 10\n",
    "pixel_depth = 255.0\n",
    "\n",
    "def load_letter(folder):\n",
    "    # Load data for single label\n",
    "    image_files = os.listdir(folder)\n",
    "    dataset = np.ndarray(shape=(len(image_files), image_size,image_size),dtype=np.float32)\n",
    "    num_images = 0\n",
    "    for image in image_files:\n",
    "        image_file = os.path.join(folder,image)\n",
    "        try:\n",
    "            \n",
    "            image_data = ((cv2.cvtColor(cv2.imread(image_file),cv2.COLOR_BGR2GRAY).astype(float) - pixel_depth / 2) / pixel_depth)\n",
    "            if image_data.shape != (image_size,image_size):\n",
    "                 raise Exception('Unexpected image shape: %s' % str(image_data.shape))\n",
    "            dataset[num_images, :, :] = image_data\n",
    "            num_images += 1\n",
    "        except (IOError,ValueError) as e:\n",
    "            print('Could not read:',image_file,\":\",e,'- it\\'s ok, skipping.')\n",
    "    dataset = dataset[0:num_images,:,:]\n",
    "    print('Full dataset tensor:',dataset.shape)\n",
    "    print('Mean:',np.mean(dataset))\n",
    "    print('Standard deviation:',np.std(dataset))\n",
    "    return dataset\n",
    "\n",
    "def maybe_pickle(data_folders, force =False):\n",
    "    dataset_names = []\n",
    "    for folder in data_folders:\n",
    "        set_filename = folder+'.pickle'\n",
    "        dataset_names.append(set_filename)\n",
    "        if os.path.exists(set_filename) and not force:\n",
    "            print('%s already present - Skipping pickling.' % set_filename)\n",
    "        else:\n",
    "            print('Pickling %s.' % set_filename)\n",
    "            dataset = load_letter(folder)\n",
    "            try:\n",
    "                with open(set_filename,'wb') as f:\n",
    "                    pickle.dump(dataset, f, pickle.HIGHEST_PROTOCOL)\n",
    "            except Exaception as e:\n",
    "                print('Unable to save data to', set_filename,\":\",e)\n",
    "    return dataset_names\n",
    "\n",
    "\n",
    "datasets = maybe_pickle(datafolders)"
   ]
  },
  {
   "cell_type": "code",
   "execution_count": 88,
   "metadata": {},
   "outputs": [
    {
     "data": {
      "image/png": "[encoded data removed]",
      "text/plain": [
       "<Figure size 432x288 with 1 Axes>"
      ]
     },
     "metadata": {},
     "output_type": "display_data"
    }
   ],
   "source": [
    "pickle_file = datasets[1]\n",
    "with open(pickle_file,'rb') as f:\n",
    "    letter_set = pickle.load(f) #unppickle\n",
    "    sample_idx = 43\n",
    "    sample_image = letter_set[sample_idx,:,:]\n",
    "    plt.figure()\n",
    "    plt.imshow(sample_image)"
   ]
  },
  {
   "cell_type": "markdown",
   "metadata": {},
   "source": [
    "# Create pickle files for 20 % test and 80 % training data\n",
    " ## 0 - label for Not GCP ; 1 - for GCP   "
   ]
  },
  {
   "cell_type": "code",
   "execution_count": null,
   "metadata": {},
   "outputs": [],
   "source": [
    "# def make_arrays(nb_rows, img_size):\n",
    "    if nb_rows:\n",
    "        dataset = np.ndarray((nb_rows,img_size,img_size), dtype=np.float32)\n",
    "        labels = np.ndarray(nb_rows, dtype=np.int32)\n",
    "    else:\n",
    "        dataset, labels = None,None\n",
    "    return dataset, labels\n",
    "\n",
    "\n",
    "def merge_datasets(pickle_files, test_percent):\n",
    "    num_classes = len(pickle_files)\n",
    "    \n",
    "    path = os.path.join('.','ResizedData')\n",
    "    \n",
    "    t = os.listdir(path)\n",
    "\n",
    "    test_size, train_size = 0,0\n",
    "\n",
    "    for i in t:\n",
    "        address = os.path.join(path,i)\n",
    "        if os.path.isdir(address):\n",
    "            leng = len(os.listdir(address))\n",
    "            t = math.floor(leng * (test_percent/100))\n",
    "            test_size += t\n",
    "            train_size += leng - t\n",
    "            \n",
    "    \n",
    "   \n",
    "    train_dataset, train_labels = make_arrays(train_size, image_size)\n",
    "    test_dataset, test_labels = make_arrays(test_size, image_size)\n",
    "    \n",
    "    start_train,start_test = 0,0\n",
    "    end_train,end_test = 0,0\n",
    "    for label, pickle_file in enumerate(pickle_files):\n",
    "        try:\n",
    "            with open(pickle_file, 'rb') as f:\n",
    "                letter_set = pickle.load(f)\n",
    "                np.random.shuffle(letter_set)\n",
    "                length = len(letter_set)\n",
    "                \n",
    "                test_size = math.floor((test_percent/100)*length)\n",
    "                train_size = length-test_size\n",
    "                \n",
    "                end_test = start_test + test_size\n",
    "                test_dataset[start_test:end_test,:,:] = letter_set[:test_size,:,:]\n",
    "                test_labels[start_test:end_test] = label\n",
    "                start_test = end_test\n",
    "                \n",
    "                end_train = start_train + train_size\n",
    "                train_dataset[start_train:end_train,:,:] = letter_set[test_size:,:,:]\n",
    "                train_labels[start_train:end_train] = label\n",
    "                start_train = end_train\n",
    "               \n",
    "        except Exception as e:\n",
    "            print('Unable to process data from', pickle_file, ':',e)\n",
    "            raise\n",
    "    \n",
    "    return test_dataset,test_labels,train_dataset,train_labels\n",
    "\n",
    "test_percent = 20\n",
    "\n",
    "test_dataset,test_labels,train_dataset,train_labels = merge_datasets(datasets, test_percent)\n"
   ]
  },
  {
   "cell_type": "markdown",
   "metadata": {},
   "source": [
    "# Shuffle the data"
   ]
  },
  {
   "cell_type": "code",
   "execution_count": 94,
   "metadata": {},
   "outputs": [
    {
     "data": {
      "image/png": "[encoded data removed]",
      "text/plain": [
       "<Figure size 432x288 with 1 Axes>"
      ]
     },
     "metadata": {},
     "output_type": "display_data"
    },
    {
     "name": "stdout",
     "output_type": "stream",
     "text": [
      "1\n"
     ]
    }
   ],
   "source": [
    "def randomize(dataset, labels):\n",
    "    permutation = np.random.permutation(labels.shape[0])\n",
    "    shuffled_dataset = dataset[permutation, :, :]\n",
    "    shuffled_labels = labels[permutation]\n",
    "    return shuffled_dataset, shuffled_labels\n",
    "\n",
    "train_dataset, train_labels = randomize(train_dataset, train_labels)\n",
    "test_dataset, test_labels = randomize(test_dataset, test_labels)\n",
    "\n",
    "\n",
    "plt.imshow(signal.medfilt(train_dataset[0]), interpolation='nearest')\n",
    "plt.show() \n",
    "print(train_labels[0])\n",
    "    "
   ]
  },
  {
   "cell_type": "markdown",
   "metadata": {},
   "source": [
    "# Save pickle file for complete dataset as a dictionary for both test and training data"
   ]
  },
  {
   "cell_type": "code",
   "execution_count": 95,
   "metadata": {},
   "outputs": [],
   "source": [
    "pickle_file = os.path.join('./ResizedData','complete_dataset.pickle')\n",
    "\n",
    "try:\n",
    "    f = open(pickle_file, 'wb')\n",
    "    save = {\n",
    "        'train_dataset' : train_dataset,\n",
    "        'train_labels' : train_labels,\n",
    "        'test_dataset' : test_dataset,\n",
    "        'test_labels' : test_labels,\n",
    "        }\n",
    "    pickle.dump(save, f, pickle.HIGHEST_PROTOCOL)\n",
    "    f.close()\n",
    "except Exception as e :\n",
    "    print('Unable to save data to', pickle_file, ':', e)\n",
    "    raise"
   ]
  },
  {
   "cell_type": "code",
   "execution_count": 96,
   "metadata": {},
   "outputs": [
    {
     "name": "stdout",
     "output_type": "stream",
     "text": [
      "Compresed pickle size:  605977\n"
     ]
    }
   ],
   "source": [
    "statinfo = os.stat(pickle_file)\n",
    "print('Compresed pickle size: ', statinfo.st_size)"
   ]
  },
  {
   "cell_type": "code",
   "execution_count": null,
   "metadata": {},
   "outputs": [],
   "source": []
  }
 ],
 "metadata": {
  "kernelspec": {
   "display_name": "Python 3",
   "language": "python",
   "name": "python3"
  },
  "language_info": {
   "codemirror_mode": {
    "name": "ipython",
    "version": 3
   },
   "file_extension": ".py",
   "mimetype": "text/x-python",
   "name": "python",
   "nbconvert_exporter": "python",
   "pygments_lexer": "ipython3",
   "version": "3.6.3"
  }
 },
 "nbformat": 4,
 "nbformat_minor": 2
}
